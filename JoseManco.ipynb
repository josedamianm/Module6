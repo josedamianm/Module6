{
  "metadata": {
    "kernelspec": {
      "name": "python",
      "display_name": "Python (Pyodide)",
      "language": "python"
    },
    "language_info": {
      "codemirror_mode": {
        "name": "python",
        "version": 3
      },
      "file_extension": ".py",
      "mimetype": "text/x-python",
      "name": "python",
      "nbconvert_exporter": "python",
      "pygments_lexer": "ipython3",
      "version": "3.8"
    }
  },
  "nbformat_minor": 5,
  "nbformat": 4,
  "cells": [
    {
      "id": "bf66f6a9-762e-48d6-a5ac-b5973f763982",
      "cell_type": "markdown",
      "source": "# Module 6 Final Assigment",
      "metadata": {}
    },
    {
      "id": "e7109406-f044-4b19-ba62-98087a66d36c",
      "cell_type": "markdown",
      "source": "## Introduction\nThis document serves as the introduction to the assignment for Module 6 of the IBM Data Science course. In this module, i focus on the Data Science Tools, including data visualization, statistical modeling, and machine learning tools.",
      "metadata": {}
    },
    {
      "id": "6ca0c822-bbd1-4fc9-a7a9-5fe5a54eb0a1",
      "cell_type": "markdown",
      "source": "## Data Science Laguages Common Used\n\nSome Data Scients Laguages are:\n\n+ Python\n+ R\n+ SQL\n+ Scala\n+ Java\n+ C++\n+ Julia\n+ JavaScript\n+ PHP\n+ Go\n+ Ruby\n+ Visual Basic",
      "metadata": {}
    },
    {
      "id": "fa51f067-e084-4694-b656-06640a9030f2",
      "cell_type": "markdown",
      "source": "## Data Science Common Libraries\n\n+ Pandas\n+ Numpy\n+ Matplotlib\n+ Seaborn\n+ Scikit-learn\n+ Keras\n+ TensorFlow\n+ PyTorch\n+ Spark\n+ Big DL\n+ Ggplot2",
      "metadata": {}
    },
    {
      "id": "561fc0d8-721e-4269-a1e1-f1b054c5f4f1",
      "cell_type": "markdown",
      "source": "## Data Science Common Tools\n\n| Tool               | Description                                                                 |\n|--------------------|-----------------------------------------------------------------------------|\n| **Jupyter Notebooks** | An open-source web application that allows you to create and share documents with live code, equations, visualizations, and narrative text. |\n| **VS Code**        | A lightweight but powerful source code editor that supports Python, R, and other programming languages commonly used in data science. |\n| **Git**            | A version control system that tracks changes in code and facilitates collaboration among data science teams. |\n| **GitHub**         | A cloud-based platform that hosts Git repositories and facilitates version control and collaboration. |\n| **Docker**         | A platform for developing, shipping, and running applications in isolated containers, ensuring consistency across environments. |\n| **Apache Hadoop**  | An open-source framework for distributed storage and processing of large datasets across clusters of computers. |\n| **Tableau**        | A data visualization tool that allows users to create interactive and shareable dashboards, often used for business intelligence. |\n| **Power BI**       | A data analytics and visualization tool by Microsoft that provides interactive visualizations and business intelligence capabilities. |\n| **Google Colab**   | A cloud-based Jupyter notebook environment that supports Python and allows you to run code in the cloud with free access to GPUs. |\n| **SQL**            | A standard programming language used to manage and query relational databases, essential for working with structured data. |\n| **RStudio**        | An integrated development environment (IDE) for R programming, commonly used in statistical analysis and data visualization. |\n| **Anaconda**       | A distribution of Python and R for scientific computing and data science, which includes package management and environments. |\n| **Spyder**         | An open-source IDE for scientific programming in Python, particularly popular for data analysis, providing a rich environment for development with integrated tools. |\n| **Zeppelin**       | An open-source web-based notebook for data-driven, interactive data analytics, and collaborative documents, supporting languages like Python, Scala, and SQL. |",
      "metadata": {}
    },
    {
      "id": "682887e5-1169-4588-9886-454219b6f6a0",
      "cell_type": "markdown",
      "source": "## Arithmetic Expression Examples\nSimple Arithmetic expressions",
      "metadata": {}
    },
    {
      "id": "16ec89be-84cf-41ba-a26c-6fb2f3865e00",
      "cell_type": "code",
      "source": "# Multiply and addition\n(5 * 4) + 10",
      "metadata": {
        "trusted": true
      },
      "outputs": [
        {
          "execution_count": 1,
          "output_type": "execute_result",
          "data": {
            "text/plain": "30"
          },
          "metadata": {}
        }
      ],
      "execution_count": 1
    },
    {
      "id": "9342f58b-d628-4f2d-a806-b6be4fb9d7a0",
      "cell_type": "code",
      "source": "# Convert Minutes to Hours\n250 // 60",
      "metadata": {
        "trusted": true
      },
      "outputs": [
        {
          "execution_count": 2,
          "output_type": "execute_result",
          "data": {
            "text/plain": "4"
          },
          "metadata": {}
        }
      ],
      "execution_count": 2
    },
    {
      "id": "a2992655-1922-4bff-8d1e-a02b5fa8aaa5",
      "cell_type": "markdown",
      "source": "## Objectives\n\n- Understand basic arithmetic operations in Python.\n- Learn how to convert time units in Python (e.g., minutes to hours).\n- Explore functions to handle mathematical calculations.\n- Develop reusable code for simple conversions and calculations.\n",
      "metadata": {}
    },
    {
      "id": "4d790802-1aa3-4fc1-a5c8-a998efb76e88",
      "cell_type": "markdown",
      "source": "# Author\n\n**Jose Damian Manco Rocha**",
      "metadata": {}
    }
  ]
}