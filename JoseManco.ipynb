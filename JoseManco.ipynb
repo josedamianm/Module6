{
  "metadata": {
    "kernelspec": {
      "name": "python",
      "display_name": "Python (Pyodide)",
      "language": "python"
    },
    "language_info": {
      "codemirror_mode": {
        "name": "python",
        "version": 3
      },
      "file_extension": ".py",
      "mimetype": "text/x-python",
      "name": "python",
      "nbconvert_exporter": "python",
      "pygments_lexer": "ipython3",
      "version": "3.8"
    }
  },
  "nbformat_minor": 5,
  "nbformat": 4,
  "cells": [
    {
      "id": "bf66f6a9-762e-48d6-a5ac-b5973f763982",
      "cell_type": "markdown",
      "source": "# Module 6 Final Assigment",
      "metadata": {}
    },
    {
      "id": "e7109406-f044-4b19-ba62-98087a66d36c",
      "cell_type": "markdown",
      "source": "## Introduction\nThis document serves as the introduction to the assignment for Module 6 of the IBM Data Science course. In this module, i focus on the Data Science Tools, including data visualization, statistical modeling, and machine learning tools.",
      "metadata": {}
    },
    {
      "id": "6ca0c822-bbd1-4fc9-a7a9-5fe5a54eb0a1",
      "cell_type": "markdown",
      "source": "## Data Science Laguages\n\nPython\n\nR\n\nSQL\n",
      "metadata": {}
    },
    {
      "id": "fa51f067-e084-4694-b656-06640a9030f2",
      "cell_type": "markdown",
      "source": "## Data Science Tools\n\n| Tool Name      | Description |\n|---------------|-------------|\n| Jupyter Notebook | Open-source web application for creating and sharing documents with live code, equations, and visualizations. |\n| RStudio       | Integrated development environment for R programming. |\n| Apache Spark  | Open-source distributed computing system for big data processing. |\n| TensorFlow    | Open-source library for machine learning and deep learning applications. |\n| Scikit-learn  | Python library for machine learning and data mining. |\n",
      "metadata": {}
    },
    {
      "id": "682887e5-1169-4588-9886-454219b6f6a0",
      "cell_type": "markdown",
      "source": "## Arithmetic Expression Examples\n\nArithmetic expressions are fundamental operations used in programming and data science. Below are some basic examples:\n\n- Addition: `5 + 3 = 8`\n- Subtraction: `10 - 4 = 6`\n- Multiplication: `7 * 2 = 14`\n- Division: `16 / 4 = 4`\n- Exponentiation: `2 ** 3 = 8`\n\nThese operations form the basis of ",
      "metadata": {}
    },
    {
      "id": "16ec89be-84cf-41ba-a26c-6fb2f3865e00",
      "cell_type": "code",
      "source": "# Function to multiply and add numbers\ndef multiply_and_add(a, b, c):\n    return a * b + c\n\n# Example usage\na = 3\nb = 4\nc = 5\nresult = multiply_and_add(a, b, c)\nprint(f\"The result of multiplying {a} and {b}, then adding {c} is: {result}\")",
      "metadata": {
        "trusted": true
      },
      "outputs": [
        {
          "name": "stdout",
          "output_type": "stream",
          "text": "The result of multiplying 3 and 4, then adding 5 is: 17\n"
        }
      ],
      "execution_count": 2
    },
    {
      "id": "9342f58b-d628-4f2d-a806-b6be4fb9d7a0",
      "cell_type": "code",
      "source": "# Function to convert minutes to hours\ndef minutes_to_hours(minutes):\n    hours = minutes // 60\n    remaining_minutes = minutes % 60\n    return hours, remaining_minutes\n\n# Example usage\nminutes = 135\nhours, remaining_minutes = minutes_to_hours(minutes)\nprint(f\"{minutes} minutes is equal to {hours} hours and {remaining_minutes} minutes.\")",
      "metadata": {
        "trusted": true
      },
      "outputs": [
        {
          "name": "stdout",
          "output_type": "stream",
          "text": "135 minutes is equal to 2 hours and 15 minutes.\n"
        }
      ],
      "execution_count": 3
    },
    {
      "id": "a2992655-1922-4bff-8d1e-a02b5fa8aaa5",
      "cell_type": "markdown",
      "source": "## Objectives\n\n- Understand basic arithmetic operations in Python.\n- Learn how to convert time units in Python (e.g., minutes to hours).\n- Explore functions to handle mathematical calculations.\n- Develop reusable code for simple conversions and calculations.\n",
      "metadata": {}
    },
    {
      "id": "4d790802-1aa3-4fc1-a5c8-a998efb76e88",
      "cell_type": "markdown",
      "source": "# Author\n\n- **Jose Damian Manco Rocha**",
      "metadata": {}
    },
    {
      "id": "72132e1e-1d23-4cde-bc20-daca068340b0",
      "cell_type": "code",
      "source": "",
      "metadata": {
        "trusted": true
      },
      "outputs": [],
      "execution_count": null
    }
  ]
}